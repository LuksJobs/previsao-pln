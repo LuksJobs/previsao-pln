{
 "cells": [
  {
   "cell_type": "markdown",
   "metadata": {},
   "source": [
    "# Atividade avaliativa final - Tópicos especiais em business inteligence e analytics 3"
   ]
  },
  {
   "cell_type": "markdown",
   "metadata": {},
   "source": [
    "# Alunos\n",
    "\n",
    "* Lucas Oliveira Dantas\n",
    "* Newton Pereira de Paiva\n",
    "* Raphael Gonçalves Silva \n",
    "* Raphael Oliveira dos Reis"
   ]
  },
  {
   "cell_type": "markdown",
   "metadata": {},
   "source": [
    "## Tópicos"
   ]
  },
  {
   "cell_type": "markdown",
   "metadata": {},
   "source": [
    "- Introdução\n",
    "- Estudo de caso\n",
    "- Importando bibliotecas\n",
    "- Importando o conjunto de dados\n",
    "- Preparação do texto\n",
    "- Contando as palavras\n",
    "- Conclusão (falta fazer)"
   ]
  },
  {
   "cell_type": "markdown",
   "metadata": {},
   "source": [
    "## Introdução"
   ]
  },
  {
   "cell_type": "markdown",
   "metadata": {},
   "source": [
    "Neste notebook, apresentamos o uso de Machine Learning com Regressão Logística e `Processamento de Linguagem Natural (PLN)`, o nosso objetivo é a previsão das tags com base em perguntas mais frequentes das diversas áreas de *Tecnologia da Informação*, utilizamos um conjunto de dados (data sets) coletados do site **Hugging Face** (https://huggingface.co/datasets/fka/awesome-chatgpt-prompts).\n",
    "\n",
    "Gráficos trazendo as top 10 pavras mais frequentes no modelo e outro gráfico com as tops 10 tags mais utilizados no modelo treinado.\n",
    "\n",
    "* Repositório do Projeto no Github: https://github.com/LuksJobs/previsao-pln"
   ]
  },
  {
   "cell_type": "markdown",
   "metadata": {},
   "source": [
    "## Estudo de caso"
   ]
  },
  {
   "cell_type": "markdown",
   "metadata": {},
   "source": [
    "O **Problema de Negócio** que queremos resolver é `realizar predições das respectivas tags a partir das perguntas, através do aprendizado de máquina com algoritmo supervisionado`."
   ]
  },
  {
   "cell_type": "markdown",
   "metadata": {},
   "source": [
    "## Importando as bibliotecas"
   ]
  },
  {
   "cell_type": "markdown",
   "metadata": {},
   "source": [
    "Para nosso estudo de caso, vamos fazer uso das seguintes bibliotecas:\n",
    "- **Numpy**: um pacote para computação científica.\n",
    "- **Pandas**: uma biblioteca de alta-performance, fácil para manipulação de dataframes e análises de dados.\n",
    "- **seaborn**: para visualizações.\n",
    "- **scikit-learn**: um pacote para ferramentas para aprendizado de máquinas.\n",
    "- **NLTK**: uma plataforma para trabalhar com linguagem natural."
   ]
  },
  {
   "cell_type": "markdown",
   "metadata": {},
   "source": [
    "# Instalando as dependências (Pacotes) no Linux\n",
    "\n",
    "* ```sudo apt install python3-numpy``` - Instalação da biblioteca do **Numpy** no Python3\n",
    "* ```sudo apt install python3-pandas``` - Instalação da biblioteca do **Pandas** no Python3\n",
    "* ```sudo apt install python3-seaborn``` - - Instalação da biblioteca do **Seaborn** no Python3\n",
    "* ```sudo apt install python3-nltk``` - Instalação da biblioteca do **NLTK** no Python3\n",
    "* ```sudo apt install python3-scikit-learn``` - Instalação da biblioteca do **SCIKIT** no Python3\n",
    "* ```sudo apt install python3-matplotlib``` - - Instalação da biblioteca do **MATPLOTLIB** no Python3"
   ]
  },
  {
   "cell_type": "code",
   "execution_count": 42,
   "metadata": {},
   "outputs": [
    {
     "name": "stderr",
     "output_type": "stream",
     "text": [
      "[nltk_data] Downloading package stopwords to\n",
      "[nltk_data]     /home/raphaelreis/nltk_data...\n",
      "[nltk_data]   Package stopwords is already up-to-date!\n"
     ]
    }
   ],
   "source": [
    "# importando as bibliotecas\n",
    "import nltk\n",
    "from nltk.corpus import stopwords\n",
    "from googletrans import Translator \n",
    "\n",
    "import pandas as pd\n",
    "import numpy as np\n",
    "import seaborn as sns\n",
    "import matplotlib.pyplot as plt\n",
    "\n",
    "from ast import literal_eval\n",
    "import re\n",
    "from collections import Counter\n",
    "from itertools import chain\n",
    "\n",
    "from sklearn.feature_extraction.text import CountVectorizer\n",
    "from sklearn.feature_extraction.text import TfidfVectorizer\n",
    "from sklearn.preprocessing import MultiLabelBinarizer\n",
    "from sklearn.multiclass import OneVsRestClassifier\n",
    "from sklearn.linear_model import LogisticRegression, RidgeClassifier\n",
    "from sklearn.metrics import accuracy_score\n",
    "from sklearn.metrics import f1_score\n",
    "from sklearn.metrics import roc_auc_score \n",
    "from sklearn.metrics import average_precision_score\n",
    "from sklearn.metrics import recall_score\n",
    "#from metrics import roc_auc #deu erro na importação da biblioteca \"metrics\"\n",
    "\n",
    "nltk.download('stopwords') # caso a lista esteja desatualizada\n",
    "%matplotlib inline"
   ]
  },
  {
   "cell_type": "markdown",
   "metadata": {},
   "source": [
    "Neste projeto, contaremos com 2 conjuntos de dados: **treino** (train) e **validação** (validation), no qual é composto por `títulos` e suas `tags` correspondentes (somente essas duas colunas)."
   ]
  },
  {
   "cell_type": "markdown",
   "metadata": {},
   "source": [
    "## Importando o conjunto de dados"
   ]
  },
  {
   "cell_type": "markdown",
   "metadata": {},
   "source": [
    "Vamos iniciar criando um função para importação dos dados. Nessa importação as *tags* são importadas entre aspas simples, então utilizaremos a função `literal_eval` no qual converte a string em um objeto, para suprimirmos as aspas."
   ]
  },
  {
   "cell_type": "code",
   "execution_count": 68,
   "metadata": {},
   "outputs": [],
   "source": [
    "# Função para traduzir um texto de inglês para português\n",
    "def translate_text(text):\n",
    "    translator = Translator()\n",
    "    translation = translator.translate(text, src='en', dest='pt')\n",
    "    return translation.text\n",
    "\n",
    "# Função para traduzir as colunas relevantes do DataFrame\n",
    "def translate_data(data):\n",
    "    translated_data = data.copy()  # Crie uma cópia dos dados para evitar alterações nos originais\n",
    "    translated_data['title'] = translated_data['title'].apply(translate_text)\n",
    "    return translated_data\n",
    "\n",
    "# criando a função\n",
    "def read_data(filename):\n",
    "    # importando o arquivo\n",
    "    data = pd.read_csv(filename, sep='\\t')\n",
    "    \n",
    "    # Tratar valores nan na coluna 'tags'\n",
    "    # data['tags'].fillna('[]', inplace=True)\n",
    "    data['tags'] = data['tags'].apply(literal_eval)\n",
    "    \n",
    "    # retornando o arquivo\n",
    "    return data"
   ]
  },
  {
   "cell_type": "markdown",
   "metadata": {},
   "source": [
    "Agora vamos importar os dois arquivos."
   ]
  },
  {
   "cell_type": "code",
   "execution_count": 73,
   "metadata": {},
   "outputs": [],
   "source": [
    "# importando os dados de treino\n",
    "train = (read_data('data/train_pt.tsv'))\n",
    "\n",
    "# importando os dados de validação\n",
    "validation = (read_data('data/validation_pt.tsv'))"
   ]
  },
  {
   "cell_type": "markdown",
   "metadata": {},
   "source": [
    "Vamos dar uma olhada nas primeiras linhas de cada conjunto com o método `head()`."
   ]
  },
  {
   "cell_type": "code",
   "execution_count": 74,
   "metadata": {},
   "outputs": [
    {
     "data": {
      "text/html": [
       "<div>\n",
       "<style scoped>\n",
       "    .dataframe tbody tr th:only-of-type {\n",
       "        vertical-align: middle;\n",
       "    }\n",
       "\n",
       "    .dataframe tbody tr th {\n",
       "        vertical-align: top;\n",
       "    }\n",
       "\n",
       "    .dataframe thead th {\n",
       "        text-align: right;\n",
       "    }\n",
       "</style>\n",
       "<table border=\"1\" class=\"dataframe\">\n",
       "  <thead>\n",
       "    <tr style=\"text-align: right;\">\n",
       "      <th></th>\n",
       "      <th>title</th>\n",
       "      <th>tags</th>\n",
       "    </tr>\n",
       "  </thead>\n",
       "  <tbody>\n",
       "    <tr>\n",
       "      <th>0</th>\n",
       "      <td>Como desenhar um dotplot empilhado em R? ['r']</td>\n",
       "      <td>[]</td>\n",
       "    </tr>\n",
       "    <tr>\n",
       "      <th>1</th>\n",
       "      <td>mysql seleciona todos os registros onde um cam...</td>\n",
       "      <td>[]</td>\n",
       "    </tr>\n",
       "    <tr>\n",
       "      <th>2</th>\n",
       "      <td>Como encerrar o aplicativo do Windows Phone 8....</td>\n",
       "      <td>[]</td>\n",
       "    </tr>\n",
       "    <tr>\n",
       "      <th>3</th>\n",
       "      <td>obter a hora atual em um pais especifico via j...</td>\n",
       "      <td>[]</td>\n",
       "    </tr>\n",
       "    <tr>\n",
       "      <th>4</th>\n",
       "      <td>Configurando o Tomcat para usar SSL ['java']</td>\n",
       "      <td>[]</td>\n",
       "    </tr>\n",
       "    <tr>\n",
       "      <th>5</th>\n",
       "      <td>Plugin de conjunto aninhado incrivel - como ad...</td>\n",
       "      <td>[]</td>\n",
       "    </tr>\n",
       "    <tr>\n",
       "      <th>6</th>\n",
       "      <td>Como criar mapa a partir de resposta JSON em R...</td>\n",
       "      <td>[]</td>\n",
       "    </tr>\n",
       "    <tr>\n",
       "      <th>7</th>\n",
       "      <td>teste rspec se o metodo for chamado ['ruby']</td>\n",
       "      <td>[]</td>\n",
       "    </tr>\n",
       "  </tbody>\n",
       "</table>\n",
       "</div>"
      ],
      "text/plain": [
       "                                               title tags\n",
       "0     Como desenhar um dotplot empilhado em R? ['r']   []\n",
       "1  mysql seleciona todos os registros onde um cam...   []\n",
       "2  Como encerrar o aplicativo do Windows Phone 8....   []\n",
       "3  obter a hora atual em um pais especifico via j...   []\n",
       "4       Configurando o Tomcat para usar SSL ['java']   []\n",
       "5  Plugin de conjunto aninhado incrivel - como ad...   []\n",
       "6  Como criar mapa a partir de resposta JSON em R...   []\n",
       "7       teste rspec se o metodo for chamado ['ruby']   []"
      ]
     },
     "execution_count": 74,
     "metadata": {},
     "output_type": "execute_result"
    }
   ],
   "source": [
    "# visualizando as primeiras 8 linhas do conjunto de arquivos treinandos\n",
    "train.head(8)"
   ]
  },
  {
   "cell_type": "code",
   "execution_count": 28,
   "metadata": {},
   "outputs": [
    {
     "data": {
      "text/html": [
       "<div>\n",
       "<style scoped>\n",
       "    .dataframe tbody tr th:only-of-type {\n",
       "        vertical-align: middle;\n",
       "    }\n",
       "\n",
       "    .dataframe tbody tr th {\n",
       "        vertical-align: top;\n",
       "    }\n",
       "\n",
       "    .dataframe thead th {\n",
       "        text-align: right;\n",
       "    }\n",
       "</style>\n",
       "<table border=\"1\" class=\"dataframe\">\n",
       "  <thead>\n",
       "    <tr style=\"text-align: right;\">\n",
       "      <th></th>\n",
       "      <th>title</th>\n",
       "      <th>tags</th>\n",
       "    </tr>\n",
       "  </thead>\n",
       "  <tbody>\n",
       "    <tr>\n",
       "      <th>0</th>\n",
       "      <td>Why odbc_exec always fail?</td>\n",
       "      <td>[php, sql]</td>\n",
       "    </tr>\n",
       "    <tr>\n",
       "      <th>1</th>\n",
       "      <td>Access a base classes variable from within a c...</td>\n",
       "      <td>[javascript]</td>\n",
       "    </tr>\n",
       "    <tr>\n",
       "      <th>2</th>\n",
       "      <td>Content-Type \"application/json\" not required i...</td>\n",
       "      <td>[ruby-on-rails, ruby]</td>\n",
       "    </tr>\n",
       "    <tr>\n",
       "      <th>3</th>\n",
       "      <td>Sessions in Sinatra: Used to Pass Variable</td>\n",
       "      <td>[ruby, session]</td>\n",
       "    </tr>\n",
       "    <tr>\n",
       "      <th>4</th>\n",
       "      <td>Getting error - type \"json\" does not exist - i...</td>\n",
       "      <td>[ruby-on-rails, ruby, json]</td>\n",
       "    </tr>\n",
       "    <tr>\n",
       "      <th>5</th>\n",
       "      <td>library not found for.....?</td>\n",
       "      <td>[c++, iphone, ios, xcode]</td>\n",
       "    </tr>\n",
       "    <tr>\n",
       "      <th>6</th>\n",
       "      <td>.csproj File - Programmatic adding/deleting files</td>\n",
       "      <td>[c#]</td>\n",
       "    </tr>\n",
       "    <tr>\n",
       "      <th>7</th>\n",
       "      <td>TypeError: makedirs() got an unexpected keywor...</td>\n",
       "      <td>[python, django]</td>\n",
       "    </tr>\n",
       "  </tbody>\n",
       "</table>\n",
       "</div>"
      ],
      "text/plain": [
       "                                               title  \\\n",
       "0                         Why odbc_exec always fail?   \n",
       "1  Access a base classes variable from within a c...   \n",
       "2  Content-Type \"application/json\" not required i...   \n",
       "3         Sessions in Sinatra: Used to Pass Variable   \n",
       "4  Getting error - type \"json\" does not exist - i...   \n",
       "5                        library not found for.....?   \n",
       "6  .csproj File - Programmatic adding/deleting files   \n",
       "7  TypeError: makedirs() got an unexpected keywor...   \n",
       "\n",
       "                          tags  \n",
       "0                   [php, sql]  \n",
       "1                 [javascript]  \n",
       "2        [ruby-on-rails, ruby]  \n",
       "3              [ruby, session]  \n",
       "4  [ruby-on-rails, ruby, json]  \n",
       "5    [c++, iphone, ios, xcode]  \n",
       "6                         [c#]  \n",
       "7             [python, django]  "
      ]
     },
     "execution_count": 28,
     "metadata": {},
     "output_type": "execute_result"
    }
   ],
   "source": [
    "# visualizando as primeiras 8 linhas do conjunto de arquivos validados\n",
    "validation.head(8)"
   ]
  },
  {
   "cell_type": "markdown",
   "metadata": {},
   "source": [
    "Podemos notar que temos aspas, underlines, dois pontos, traços na coluna **title** e a coluna **tags** não tem uma quantidade fixa de palavras, além de cada termo está em formato de lista.\n",
    "\n",
    "Vamos agora dar uma olhada na dimensão desses dados."
   ]
  },
  {
   "cell_type": "code",
   "execution_count": null,
   "metadata": {},
   "outputs": [
    {
     "name": "stdout",
     "output_type": "stream",
     "text": [
      "Os dados de TREINO possui:\n",
      "100000 linhas\n",
      "2 colunas\n",
      "\n",
      "Os dados de VALIDAÇÃO possui:\n",
      "30001 linhas\n",
      "2 colunas\n"
     ]
    }
   ],
   "source": [
    "# visualizando as dimensões em quantidade de linhas e colunas dos dados de treino;\n",
    "print(f\"Os dados de TREINO possui:\")\n",
    "print(f\"{train.shape[0]} linhas\")\n",
    "print(f\"{train.shape[1]} colunas\\n\")\n",
    "\n",
    "# visualizando as dimensões em quantidade de linhas e colunas dos dados de treino;\n",
    "print(f\"Os dados de VALIDAÇÃO possui:\")\n",
    "print(f\"{validation.shape[0]} linhas\")\n",
    "print(f\"{validation.shape[1]} colunas\")"
   ]
  },
  {
   "cell_type": "markdown",
   "metadata": {},
   "source": [
    "Observamos que o conjunto de validação corresponde à 30% do conjunto de treino, um número bom para utilizarmos como validação do nosso modelo.\n",
    "\n",
    "Vamos então, separar nossa variável `preditora` (coluna **title**) da nossa variável `alvo` (coluna **tags**), em ambos os conjuntos, utilizaremos o método `values`."
   ]
  },
  {
   "cell_type": "code",
   "execution_count": null,
   "metadata": {},
   "outputs": [],
   "source": [
    "# separando os dados de treino\n",
    "X_train, y_train = train['title'].values, train['tags'].values\n",
    "\n",
    "# separando os dados de validação\n",
    "X_val, y_val = validation['title'].values, validation['tags'].values"
   ]
  },
  {
   "cell_type": "markdown",
   "metadata": {},
   "source": [
    "Os arquivos viraram uma lista, no qual cada linha se tornou um elemento dessa lista, vamos dar uma olhada para entendermos melhor no *X_train*, as outras seguem da mesma forma."
   ]
  },
  {
   "cell_type": "code",
   "execution_count": null,
   "metadata": {},
   "outputs": [
    {
     "data": {
      "text/plain": [
       "array(['How to draw a stacked dotplot in R?',\n",
       "       'mysql select all records where a datetime field is less than a specified value',\n",
       "       'How to terminate windows phone 8.1 app', ...,\n",
       "       'Python Pandas Series of Datetimes to Seconds Since the Epoch',\n",
       "       'jqGrid issue grouping - Duplicate rows get appended every time sort is changed',\n",
       "       'Create a List of primitive int?'], dtype=object)"
      ]
     },
     "execution_count": 12,
     "metadata": {},
     "output_type": "execute_result"
    }
   ],
   "source": [
    "# visualizando X_train\n",
    "X_train"
   ]
  },
  {
   "cell_type": "markdown",
   "metadata": {},
   "source": [
    "Em geral, quando trabalhamos com Processamento de Linguagem Natural, os **dados são desestruturados**, como podemos notar também nesse documento. **Devemos analisar com cautela** e escolher a melhor forma que não irá descaracterizar o sentido ou a palavra do que estamos tratando.\n",
    "\n",
    "Vamos criar uma função para tratar nossos dados, removendo **símbolos** e **caracteres especiais** e também as **stopwords**, que são palavras que aparecem muitas vezes mas que não agregam valor ao nosso objetivo e se mantivermos podem causar ruidos e não termos uma boa precisão nas previsões."
   ]
  },
  {
   "cell_type": "markdown",
   "metadata": {},
   "source": [
    "## Preparação do texto"
   ]
  },
  {
   "cell_type": "markdown",
   "metadata": {},
   "source": [
    "Nesta etapa vamos começar a \"limpar\" nosso texto, removendo tudo que não tem valor para nosso objetivo.\n",
    "\n",
    "Vamos iniciar criando uma função para isso, fazendo uso do pacote `re`, *Regular Expression Operations* e com ela podemos utilizar dos recursos do REGEX.\n",
    "\n",
    "Faremos uso do método *compile* (`re.compile`), dentro de um objeto, para compilar a *expressão regular* que queremos, com isso quando a função encontrar essa expressão no texto, ele a removerá. Podemos utilizar para remover caracteres especiais, números, entre outros padrões existentes. Depois usaremos esse objeto como uma função com o método `sub`, passando como parâmetros o que irá substituir e o conjunto de dados."
   ]
  },
  {
   "cell_type": "code",
   "execution_count": null,
   "metadata": {},
   "outputs": [],
   "source": [
    "# criando os objetos com as expressões regulares\n",
    "remove_espec_carac = re.compile('[/(){}\\[\\]\\|@,;]')\n",
    "remove_symb = re.compile('[^0-9a-z #+_]')\n",
    "\n",
    "# criando um objeto para remoção de stopwords no idioma ingles\n",
    "stopwords = stopwords.words('portuguese')\n",
    "\n",
    "# criando a função\n",
    "def text_prepare(text):\n",
    "    \n",
    "    # normalizando nosso texto em letras minúsculas, assim facilita nossa preparação\n",
    "    text = text.lower()\n",
    "    \n",
    "    # substituindo caracteres especiais por espaços em branco\n",
    "    text = remove_espec_carac.sub(' ', text)\n",
    "    \n",
    "    # retornando apenas letras e números\n",
    "    text = remove_symb.sub('', text)\n",
    "    \n",
    "    # removendo as stopwords\n",
    "    text = ' '.join(word for word in text.split() if word not in stopwords)\n",
    "    \n",
    "    # retornando o texto modificado\n",
    "    return text"
   ]
  },
  {
   "cell_type": "markdown",
   "metadata": {},
   "source": [
    "Para verificarmos se nossa função de preparação está funcionando, vamos criar um pequeno texto com as informações que queremos remover e analisar."
   ]
  },
  {
   "cell_type": "code",
   "execution_count": null,
   "metadata": {},
   "outputs": [],
   "source": [
    "# Criando a função\n",
    "def test_text_prepare():\n",
    "    \n",
    "    # definindo os exemplos\n",
    "    examples = [\"SQL Server - any equivalent of Excel's CHOOSE function?\",\n",
    "                \"How to free c++ memory vector<int> * arr?\"]\n",
    "    \n",
    "    # inserindo a resposta correta\n",
    "    answers = [\"sql server equivalent excels choose function\", \n",
    "               \"free c++ memory vectorint arr\"]\n",
    "    \n",
    "    # Aplicando um loop e comparando a limpeza\n",
    "    for ex, ans in zip(examples, answers):\n",
    "        \n",
    "    # condições para retornar se o resultado foi aprovado ou reprovado\n",
    "        if text_prepare(ex) != ans:\n",
    "            return \"Resposta incorreta para: '%s'\" % ex\n",
    "    return 'Testes básicos aprovados.'"
   ]
  },
  {
   "cell_type": "code",
   "execution_count": null,
   "metadata": {},
   "outputs": [
    {
     "name": "stdout",
     "output_type": "stream",
     "text": [
      "Testes básicos aprovados.\n"
     ]
    }
   ],
   "source": [
    "# rodando a função de teste\n",
    "print(test_text_prepare())"
   ]
  },
  {
   "cell_type": "markdown",
   "metadata": {},
   "source": [
    "Nossa função passou no teste! Agora podemos pré-processar os *titles* usando a função **text_prepare** para os conjuntos de dados de treino e validação."
   ]
  },
  {
   "cell_type": "code",
   "execution_count": null,
   "metadata": {},
   "outputs": [],
   "source": [
    "# aplicando a função nos dados de treino\n",
    "X_train = [text_prepare(x) for x in X_train]\n",
    "\n",
    "# aplicando a função nos dados de validação\n",
    "X_val = [text_prepare(x) for x in X_val]"
   ]
  },
  {
   "cell_type": "markdown",
   "metadata": {},
   "source": [
    "Vamos dar uma olhada nas primeiras linhas, mas que na verdade são elementos porque estão contidos em uma lista e não mais como um dataframe."
   ]
  },
  {
   "cell_type": "code",
   "execution_count": 27,
   "metadata": {},
   "outputs": [
    {
     "ename": "NameError",
     "evalue": "name 'X_train' is not defined",
     "output_type": "error",
     "traceback": [
      "\u001b[0;31m---------------------------------------------------------------------------\u001b[0m",
      "\u001b[0;31mNameError\u001b[0m                                 Traceback (most recent call last)",
      "\u001b[1;32m/var/www/html/previsao-pln/previsao_de_pln.ipynb Cell 38\u001b[0m line \u001b[0;36m2\n\u001b[1;32m      <a href='vscode-notebook-cell://wsl%2Bubuntu/var/www/html/previsao-pln/previsao_de_pln.ipynb#X52sdnNjb2RlLXJlbW90ZQ%3D%3D?line=0'>1</a>\u001b[0m \u001b[39m# visualizando os 50 primeiros elementos\u001b[39;00m\n\u001b[0;32m----> <a href='vscode-notebook-cell://wsl%2Bubuntu/var/www/html/previsao-pln/previsao_de_pln.ipynb#X52sdnNjb2RlLXJlbW90ZQ%3D%3D?line=1'>2</a>\u001b[0m X_train[:\u001b[39m50\u001b[39m]\n",
      "\u001b[0;31mNameError\u001b[0m: name 'X_train' is not defined"
     ]
    }
   ],
   "source": [
    "# visualizando os 50 primeiros elementos\n",
    "X_train[:50]"
   ]
  },
  {
   "cell_type": "markdown",
   "metadata": {},
   "source": [
    "## Contando as palavras"
   ]
  },
  {
   "cell_type": "markdown",
   "metadata": {},
   "source": [
    "Seguindo aqui com nosso texto \"limpo\", podemos calcular as quantidades de ocorrência de cada palavra nos conjuntos de treino. Vamos utilizar a função `Counter` do pacote `Collections` para fazer contagem e a função `chain` do pacote `itertools` que nos fornece um *loop* que irá iterar as palavras com suas respectivas frequencias. "
   ]
  },
  {
   "cell_type": "code",
   "execution_count": 26,
   "metadata": {},
   "outputs": [
    {
     "ename": "NameError",
     "evalue": "name 'X_train' is not defined",
     "output_type": "error",
     "traceback": [
      "\u001b[0;31m---------------------------------------------------------------------------\u001b[0m",
      "\u001b[0;31mNameError\u001b[0m                                 Traceback (most recent call last)",
      "\u001b[1;32m/var/www/html/previsao-pln/previsao_de_pln.ipynb Cell 41\u001b[0m line \u001b[0;36m2\n\u001b[1;32m      <a href='vscode-notebook-cell://wsl%2Bubuntu/var/www/html/previsao-pln/previsao_de_pln.ipynb#X55sdnNjb2RlLXJlbW90ZQ%3D%3D?line=0'>1</a>\u001b[0m \u001b[39m# realizando a contagem e inserindo em um dicionário\u001b[39;00m\n\u001b[0;32m----> <a href='vscode-notebook-cell://wsl%2Bubuntu/var/www/html/previsao-pln/previsao_de_pln.ipynb#X55sdnNjb2RlLXJlbW90ZQ%3D%3D?line=1'>2</a>\u001b[0m words_counts \u001b[39m=\u001b[39m Counter(chain\u001b[39m.\u001b[39mfrom_iterable([i\u001b[39m.\u001b[39msplit(\u001b[39m\"\u001b[39m\u001b[39m \u001b[39m\u001b[39m\"\u001b[39m) \u001b[39mfor\u001b[39;00m i \u001b[39min\u001b[39;00m X_train]))\n\u001b[1;32m      <a href='vscode-notebook-cell://wsl%2Bubuntu/var/www/html/previsao-pln/previsao_de_pln.ipynb#X55sdnNjb2RlLXJlbW90ZQ%3D%3D?line=3'>4</a>\u001b[0m \u001b[39m# ordenando do maior para o menor\u001b[39;00m\n\u001b[1;32m      <a href='vscode-notebook-cell://wsl%2Bubuntu/var/www/html/previsao-pln/previsao_de_pln.ipynb#X55sdnNjb2RlLXJlbW90ZQ%3D%3D?line=4'>5</a>\u001b[0m words_freq \u001b[39m=\u001b[39m \u001b[39msorted\u001b[39m(words_counts\u001b[39m.\u001b[39mitems(), key\u001b[39m=\u001b[39m\u001b[39mlambda\u001b[39;00m x: x[\u001b[39m1\u001b[39m], reverse\u001b[39m=\u001b[39m\u001b[39mTrue\u001b[39;00m)\n",
      "\u001b[0;31mNameError\u001b[0m: name 'X_train' is not defined"
     ]
    }
   ],
   "source": [
    "# realizando a contagem e inserindo em um dicionário\n",
    "words_counts = Counter(chain.from_iterable([i.split(\" \") for i in X_train]))\n",
    "\n",
    "# ordenando do maior para o menor\n",
    "words_freq = sorted(words_counts.items(), key=lambda x: x[1], reverse=True)"
   ]
  },
  {
   "cell_type": "markdown",
   "metadata": {},
   "source": [
    "Vamos dar uma olhada no nas perguntas mais frequentes em uma escala de **TOP 50**, ou seja, as 50 palavras que mais apareceram."
   ]
  },
  {
   "cell_type": "code",
   "execution_count": null,
   "metadata": {},
   "outputs": [
    {
     "data": {
      "text/plain": [
       "[('using', 8278),\n",
       " ('php', 5614),\n",
       " ('java', 5501),\n",
       " ('file', 5055),\n",
       " ('javascript', 4746),\n",
       " ('error', 4388),\n",
       " ('get', 4301),\n",
       " ('c#', 4188),\n",
       " ('python', 4073),\n",
       " ('string', 3652),\n",
       " ('array', 3533),\n",
       " ('data', 3298),\n",
       " ('jquery', 3293),\n",
       " ('value', 3175),\n",
       " ('function', 2896),\n",
       " ('object', 2646),\n",
       " ('class', 2558),\n",
       " ('use', 2422),\n",
       " ('c++', 2312),\n",
       " ('list', 2137),\n",
       " ('method', 2123),\n",
       " ('multiple', 2096),\n",
       " ('text', 1929),\n",
       " ('image', 1849),\n",
       " ('page', 1847),\n",
       " ('rails', 1778),\n",
       " ('form', 1776),\n",
       " ('create', 1757),\n",
       " ('html', 1715),\n",
       " ('type', 1699),\n",
       " ('code', 1664),\n",
       " ('set', 1640),\n",
       " ('working', 1636),\n",
       " ('database', 1631),\n",
       " ('add', 1611),\n",
       " ('convert', 1586),\n",
       " ('mysql', 1572),\n",
       " ('json', 1557),\n",
       " ('c', 1550),\n",
       " ('server', 1543),\n",
       " ('variable', 1542),\n",
       " ('android', 1530),\n",
       " ('values', 1528),\n",
       " ('aspnet', 1506),\n",
       " ('way', 1454),\n",
       " ('application', 1451),\n",
       " ('change', 1441),\n",
       " ('button', 1385),\n",
       " ('find', 1383),\n",
       " ('django', 1373)]"
      ]
     },
     "execution_count": 48,
     "metadata": {},
     "output_type": "execute_result"
    }
   ],
   "source": [
    "words_freq[:50]"
   ]
  },
  {
   "cell_type": "markdown",
   "metadata": {},
   "source": [
    "Vamos visualizar em forma de gráfico, pois ficará mais visível e intuitivo, utilizando um `barplot` para visualizar.\n",
    "\n",
    "Mas teremos que mudar o formato antes, pois como o resultado é uma tupla, vamos converter em um dicionário, separar e deixar as palavras em uma lista, assim como as ocorrências, separar e colocar também em outra lista."
   ]
  },
  {
   "cell_type": "code",
   "execution_count": 19,
   "metadata": {},
   "outputs": [
    {
     "ename": "NameError",
     "evalue": "name 'words_freq' is not defined",
     "output_type": "error",
     "traceback": [
      "\u001b[0;31m---------------------------------------------------------------------------\u001b[0m",
      "\u001b[0;31mNameError\u001b[0m                                 Traceback (most recent call last)",
      "\u001b[1;32m/var/www/html/previsao-pln/previsao_de_pln.ipynb Cell 45\u001b[0m line \u001b[0;36m2\n\u001b[1;32m      <a href='vscode-notebook-cell://wsl%2Bubuntu/var/www/html/previsao-pln/previsao_de_pln.ipynb#X62sdnNjb2RlLXJlbW90ZQ%3D%3D?line=0'>1</a>\u001b[0m \u001b[39m# colocando as palavras em um objeto do tipo lista\u001b[39;00m\n\u001b[0;32m----> <a href='vscode-notebook-cell://wsl%2Bubuntu/var/www/html/previsao-pln/previsao_de_pln.ipynb#X62sdnNjb2RlLXJlbW90ZQ%3D%3D?line=1'>2</a>\u001b[0m words_list \u001b[39m=\u001b[39m \u001b[39mlist\u001b[39m(\u001b[39mdict\u001b[39m(words_freq[:\u001b[39m10\u001b[39m])\u001b[39m.\u001b[39mkeys())\n\u001b[1;32m      <a href='vscode-notebook-cell://wsl%2Bubuntu/var/www/html/previsao-pln/previsao_de_pln.ipynb#X62sdnNjb2RlLXJlbW90ZQ%3D%3D?line=3'>4</a>\u001b[0m \u001b[39m# colocando as ocorrências em um objeto do tipo lista\u001b[39;00m\n\u001b[1;32m      <a href='vscode-notebook-cell://wsl%2Bubuntu/var/www/html/previsao-pln/previsao_de_pln.ipynb#X62sdnNjb2RlLXJlbW90ZQ%3D%3D?line=4'>5</a>\u001b[0m occur_list \u001b[39m=\u001b[39m \u001b[39mlist\u001b[39m(\u001b[39mdict\u001b[39m(words_freq[:\u001b[39m10\u001b[39m])\u001b[39m.\u001b[39mvalues())\n",
      "\u001b[0;31mNameError\u001b[0m: name 'words_freq' is not defined"
     ]
    }
   ],
   "source": [
    "# colocando as palavras em um objeto do tipo lista\n",
    "words_list = list(dict(words_freq[:10]).keys())\n",
    "\n",
    "# colocando as ocorrências em um objeto do tipo lista\n",
    "occur_list = list(dict(words_freq[:10]).values())\n",
    "\n",
    "# definindo a área de plotagem\n",
    "plt.figure(figsize=(10,6))\n",
    "\n",
    "# criando o gráfico\n",
    "ax = sns.barplot(x = words_list, y = occur_list)\n",
    "\n",
    "# inserindo o título\n",
    "ax.set_title('TOP 10 das palavras que mais frequentes no modelo treinado')\n",
    "\n",
    "# rotacionando os rótulos do eixo x\n",
    "plt.xticks(rotation=30);"
   ]
  },
  {
   "cell_type": "markdown",
   "metadata": {},
   "source": [
    "A palavra **using** é a que mais aparece, acredito que seja em função da maioria das perguntas serem sobre \"como funciona\" algo, em seguida entram algumas linguagens de programação, assim como buscas por erros.\n",
    "\n",
    "Da mesma forma vamos fazer todo esse processo de contagem para as tags."
   ]
  },
  {
   "cell_type": "code",
   "execution_count": null,
   "metadata": {},
   "outputs": [],
   "source": [
    "# realizando a contagem e inserindo em um dicionário\n",
    "tags_counts = Counter(chain.from_iterable([i for i in y_train]))\n",
    "\n",
    "# ordenando do maior para o menor\n",
    "tags_freq = sorted(tags_counts.items(), key=lambda x: x[1], reverse=True)"
   ]
  },
  {
   "cell_type": "markdown",
   "metadata": {},
   "source": [
    "Vamos também dar uma olhada no **TOP 10**, as 10 tags que mais apareceram."
   ]
  },
  {
   "cell_type": "code",
   "execution_count": null,
   "metadata": {},
   "outputs": [
    {
     "data": {
      "text/plain": [
       "[('javascript', 19078),\n",
       " ('c#', 19077),\n",
       " ('java', 18661),\n",
       " ('php', 13907),\n",
       " ('python', 8940),\n",
       " ('jquery', 7510),\n",
       " ('c++', 6469),\n",
       " ('html', 4668),\n",
       " ('objective-c', 4338),\n",
       " ('asp.net', 3939)]"
      ]
     },
     "execution_count": 37,
     "metadata": {},
     "output_type": "execute_result"
    }
   ],
   "source": [
    "tags_freq[:10]"
   ]
  },
  {
   "cell_type": "markdown",
   "metadata": {},
   "source": [
    "Visualizando graficamente as **TOP 10** tags mais frequentes no modelo treinado."
   ]
  },
  {
   "cell_type": "code",
   "execution_count": 53,
   "metadata": {},
   "outputs": [
    {
     "data": {
      "image/png": "[encoded data removed]",
      "text/plain": [
       "<Figure size 1000x600 with 1 Axes>"
      ]
     },
     "metadata": {},
     "output_type": "display_data"
    }
   ],
   "source": [
    "# colocando as palavras em um objeto do tipo lista\n",
    "tags_list = list(dict(tags_freq[:10]).keys())\n",
    "\n",
    "# colocando as ocorrências em um objeto do tipo lista\n",
    "occur_list = list(dict(tags_freq[:10]).values())\n",
    "\n",
    "# definindo a área de plotagem\n",
    "plt.figure(figsize=(10,6))\n",
    "\n",
    "# criando o gráfico\n",
    "ax = sns.barplot(x = tags_list, y = occur_list)\n",
    "\n",
    "# inserindo o título\n",
    "ax.set_title('TOP 10 tags que mais frequentes no modelo treinado')\n",
    "\n",
    "# rotacionando os rótulos do eixo x\n",
    "plt.xticks(rotation=30);"
   ]
  },
  {
   "cell_type": "markdown",
   "metadata": {},
   "source": [
    "As tags que mais aparecem são linguagens de Programação, no qual são relacionadas com as perguntas, sobre o *uso* ou *erros* contidos nas perguntas, por exemplo."
   ]
  },
  {
   "cell_type": "markdown",
   "metadata": {},
   "source": [
    "## Conclusão"
   ]
  }
 ],
 "metadata": {
  "kernelspec": {
   "display_name": "Python 3",
   "language": "python",
   "name": "python3"
  },
  "language_info": {
   "codemirror_mode": {
    "name": "ipython",
    "version": 3
   },
   "file_extension": ".py",
   "mimetype": "text/x-python",
   "name": "python",
   "nbconvert_exporter": "python",
   "pygments_lexer": "ipython3",
   "version": "3.10.12"
  }
 },
 "nbformat": 4,
 "nbformat_minor": 4
}
